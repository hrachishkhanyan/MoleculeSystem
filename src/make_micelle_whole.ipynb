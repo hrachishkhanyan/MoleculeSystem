{
 "cells": [
  {
   "cell_type": "code",
   "execution_count": 5,
   "id": "initial_id",
   "metadata": {
    "ExecuteTime": {
     "end_time": "2024-08-12T13:11:03.947276Z",
     "start_time": "2024-08-12T13:11:03.857296Z"
    }
   },
   "outputs": [],
   "source": [
    "import MDAnalysis as mda\n",
    "import nglview as ngl"
   ]
  },
  {
   "cell_type": "code",
   "execution_count": 19,
   "id": "83cb84cc-0ed7-47d2-a049-a39b5bb865b7",
   "metadata": {},
   "outputs": [],
   "source": [
    "u = mda.Universe(r'C:\\Users\\hrach\\PycharmProjects\\pythonProject\\triton_indo_centered_1_1000.gro')\n",
    "center_id = 'resid 32 and name H41'"
   ]
  },
  {
   "cell_type": "code",
   "execution_count": 23,
   "id": "0b2d4a4b-0aef-4c73-9647-2ffe246b3ca7",
   "metadata": {},
   "outputs": [],
   "source": [
    "center = u.select_atoms(center_id)"
   ]
  },
  {
   "cell_type": "code",
   "execution_count": 10,
   "id": "94eeae3c-1be8-4231-bed9-805c00e3bb7c",
   "metadata": {},
   "outputs": [
    {
     "data": {
      "text/plain": [
       "'3395'"
      ]
     },
     "execution_count": 10,
     "metadata": {},
     "output_type": "execute_result"
    }
   ],
   "source": [
    "def make_whole(center_atom):\n",
    "    "
   ]
  },
  {
   "cell_type": "code",
   "execution_count": null,
   "id": "7c11cc45-371d-455d-b77e-96bfbe4a4520",
   "metadata": {},
   "outputs": [],
   "source": [
    "make_whole(center)"
   ]
  },
  {
   "cell_type": "code",
   "execution_count": 21,
   "id": "97dc1fcb-4b27-4ec2-b2e7-2ae798dff068",
   "metadata": {},
   "outputs": [],
   "source": [
    "view = ngl.show_mdanalysis(u)"
   ]
  },
  {
   "cell_type": "code",
   "execution_count": 22,
   "id": "f1074f68-1d21-406f-a8ba-bbcd5439e8b6",
   "metadata": {},
   "outputs": [
    {
     "data": {
      "application/vnd.jupyter.widget-view+json": {
       "model_id": "647749ea84b44b19b204ee120221efd3",
       "version_major": 2,
       "version_minor": 0
      },
      "text/plain": [
       "NGLWidget()"
      ]
     },
     "metadata": {},
     "output_type": "display_data"
    }
   ],
   "source": [
    "view"
   ]
  },
  {
   "cell_type": "code",
   "execution_count": null,
   "id": "666d11fa-3dac-4ba4-8c49-4fde42e47e70",
   "metadata": {},
   "outputs": [],
   "source": []
  }
 ],
 "metadata": {
  "kernelspec": {
   "display_name": "Python 3 (ipykernel)",
   "language": "python",
   "name": "python3"
  },
  "language_info": {
   "codemirror_mode": {
    "name": "ipython",
    "version": 3
   },
   "file_extension": ".py",
   "mimetype": "text/x-python",
   "name": "python",
   "nbconvert_exporter": "python",
   "pygments_lexer": "ipython3",
   "version": "3.10.13"
  }
 },
 "nbformat": 4,
 "nbformat_minor": 5
}
